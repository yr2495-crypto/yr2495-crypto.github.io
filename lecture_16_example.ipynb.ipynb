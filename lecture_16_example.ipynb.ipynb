{
 "cells": [
  {
   "cell_type": "markdown",
   "id": "22c3eb66",
   "metadata": {},
   "source": [
    "# Lecture 16 Example"
   ]
  },
  {
   "cell_type": "code",
   "execution_count": 2,
   "id": "e30c78ab",
   "metadata": {},
   "outputs": [
    {
     "data": {
      "text/plain": [
       "2"
      ]
     },
     "execution_count": 2,
     "metadata": {},
     "output_type": "execute_result"
    }
   ],
   "source": [
    "1+1"
   ]
  },
  {
   "cell_type": "code",
   "execution_count": null,
   "id": "5fc16a9f",
   "metadata": {},
   "outputs": [],
   "source": []
  },
  {
   "cell_type": "code",
   "execution_count": 3,
   "id": "4de1d104",
   "metadata": {},
   "outputs": [
    {
     "data": {
      "application/vnd.plotly.v1+json": {
       "config": {
        "plotlyServerURL": "https://plot.ly"
       },
       "data": [
        {
         "hovertemplate": "total_bill=%{x}<br>tip=%{y}<extra></extra>",
         "legendgroup": "",
         "marker": {
          "color": "#636efa",
          "symbol": "circle"
         },
         "mode": "markers",
         "name": "",
         "orientation": "v",
         "showlegend": false,
         "type": "scatter",
         "x": {
          "bdata": "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",
          "dtype": "f8"
         },
         "xaxis": "x",
         "y": {
          "bdata": "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",
          "dtype": "f8"
         },
         "yaxis": "y"
        },
        {
         "hovertemplate": "<b>OLS trendline</b><br>tip = 0.105025 * total_bill + 0.92027<br>R<sup>2</sup>=0.456617<br><br>total_bill=%{x}<br>tip=%{y} <b>(trend)</b><extra></extra>",
         "legendgroup": "",
         "marker": {
          "color": "#636efa",
          "symbol": "circle"
         },
         "mode": "lines",
         "name": "",
         "showlegend": false,
         "type": "scatter",
         "x": {
          "bdata": "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",
          "dtype": "f8"
         },
         "xaxis": "x",
         "y": {
          "bdata": "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",
          "dtype": "f8"
         },
         "yaxis": "y"
        }
       ],
       "layout": {
        "legend": {
         "tracegroupgap": 0
        },
        "margin": {
         "t": 60
        },
        "template": {
         "data": {
          "bar": [
           {
            "error_x": {
             "color": "#2a3f5f"
            },
            "error_y": {
             "color": "#2a3f5f"
            },
            "marker": {
             "line": {
              "color": "#E5ECF6",
              "width": 0.5
             },
             "pattern": {
              "fillmode": "overlay",
              "size": 10,
              "solidity": 0.2
             }
            },
            "type": "bar"
           }
          ],
          "barpolar": [
           {
            "marker": {
             "line": {
              "color": "#E5ECF6",
              "width": 0.5
             },
             "pattern": {
              "fillmode": "overlay",
              "size": 10,
              "solidity": 0.2
             }
            },
            "type": "barpolar"
           }
          ],
          "carpet": [
           {
            "aaxis": {
             "endlinecolor": "#2a3f5f",
             "gridcolor": "white",
             "linecolor": "white",
             "minorgridcolor": "white",
             "startlinecolor": "#2a3f5f"
            },
            "baxis": {
             "endlinecolor": "#2a3f5f",
             "gridcolor": "white",
             "linecolor": "white",
             "minorgridcolor": "white",
             "startlinecolor": "#2a3f5f"
            },
            "type": "carpet"
           }
          ],
          "choropleth": [
           {
            "colorbar": {
             "outlinewidth": 0,
             "ticks": ""
            },
            "type": "choropleth"
           }
          ],
          "contour": [
           {
            "colorbar": {
             "outlinewidth": 0,
             "ticks": ""
            },
            "colorscale": [
             [
              0,
              "#0d0887"
             ],
             [
              0.1111111111111111,
              "#46039f"
             ],
             [
              0.2222222222222222,
              "#7201a8"
             ],
             [
              0.3333333333333333,
              "#9c179e"
             ],
             [
              0.4444444444444444,
              "#bd3786"
             ],
             [
              0.5555555555555556,
              "#d8576b"
             ],
             [
              0.6666666666666666,
              "#ed7953"
             ],
             [
              0.7777777777777778,
              "#fb9f3a"
             ],
             [
              0.8888888888888888,
              "#fdca26"
             ],
             [
              1,
              "#f0f921"
             ]
            ],
            "type": "contour"
           }
          ],
          "contourcarpet": [
           {
            "colorbar": {
             "outlinewidth": 0,
             "ticks": ""
            },
            "type": "contourcarpet"
           }
          ],
          "heatmap": [
           {
            "colorbar": {
             "outlinewidth": 0,
             "ticks": ""
            },
            "colorscale": [
             [
              0,
              "#0d0887"
             ],
             [
              0.1111111111111111,
              "#46039f"
             ],
             [
              0.2222222222222222,
              "#7201a8"
             ],
             [
              0.3333333333333333,
              "#9c179e"
             ],
             [
              0.4444444444444444,
              "#bd3786"
             ],
             [
              0.5555555555555556,
              "#d8576b"
             ],
             [
              0.6666666666666666,
              "#ed7953"
             ],
             [
              0.7777777777777778,
              "#fb9f3a"
             ],
             [
              0.8888888888888888,
              "#fdca26"
             ],
             [
              1,
              "#f0f921"
             ]
            ],
            "type": "heatmap"
           }
          ],
          "histogram": [
           {
            "marker": {
             "pattern": {
              "fillmode": "overlay",
              "size": 10,
              "solidity": 0.2
             }
            },
            "type": "histogram"
           }
          ],
          "histogram2d": [
           {
            "colorbar": {
             "outlinewidth": 0,
             "ticks": ""
            },
            "colorscale": [
             [
              0,
              "#0d0887"
             ],
             [
              0.1111111111111111,
              "#46039f"
             ],
             [
              0.2222222222222222,
              "#7201a8"
             ],
             [
              0.3333333333333333,
              "#9c179e"
             ],
             [
              0.4444444444444444,
              "#bd3786"
             ],
             [
              0.5555555555555556,
              "#d8576b"
             ],
             [
              0.6666666666666666,
              "#ed7953"
             ],
             [
              0.7777777777777778,
              "#fb9f3a"
             ],
             [
              0.8888888888888888,
              "#fdca26"
             ],
             [
              1,
              "#f0f921"
             ]
            ],
            "type": "histogram2d"
           }
          ],
          "histogram2dcontour": [
           {
            "colorbar": {
             "outlinewidth": 0,
             "ticks": ""
            },
            "colorscale": [
             [
              0,
              "#0d0887"
             ],
             [
              0.1111111111111111,
              "#46039f"
             ],
             [
              0.2222222222222222,
              "#7201a8"
             ],
             [
              0.3333333333333333,
              "#9c179e"
             ],
             [
              0.4444444444444444,
              "#bd3786"
             ],
             [
              0.5555555555555556,
              "#d8576b"
             ],
             [
              0.6666666666666666,
              "#ed7953"
             ],
             [
              0.7777777777777778,
              "#fb9f3a"
             ],
             [
              0.8888888888888888,
              "#fdca26"
             ],
             [
              1,
              "#f0f921"
             ]
            ],
            "type": "histogram2dcontour"
           }
          ],
          "mesh3d": [
           {
            "colorbar": {
             "outlinewidth": 0,
             "ticks": ""
            },
            "type": "mesh3d"
           }
          ],
          "parcoords": [
           {
            "line": {
             "colorbar": {
              "outlinewidth": 0,
              "ticks": ""
             }
            },
            "type": "parcoords"
           }
          ],
          "pie": [
           {
            "automargin": true,
            "type": "pie"
           }
          ],
          "scatter": [
           {
            "fillpattern": {
             "fillmode": "overlay",
             "size": 10,
             "solidity": 0.2
            },
            "type": "scatter"
           }
          ],
          "scatter3d": [
           {
            "line": {
             "colorbar": {
              "outlinewidth": 0,
              "ticks": ""
             }
            },
            "marker": {
             "colorbar": {
              "outlinewidth": 0,
              "ticks": ""
             }
            },
            "type": "scatter3d"
           }
          ],
          "scattercarpet": [
           {
            "marker": {
             "colorbar": {
              "outlinewidth": 0,
              "ticks": ""
             }
            },
            "type": "scattercarpet"
           }
          ],
          "scattergeo": [
           {
            "marker": {
             "colorbar": {
              "outlinewidth": 0,
              "ticks": ""
             }
            },
            "type": "scattergeo"
           }
          ],
          "scattergl": [
           {
            "marker": {
             "colorbar": {
              "outlinewidth": 0,
              "ticks": ""
             }
            },
            "type": "scattergl"
           }
          ],
          "scattermap": [
           {
            "marker": {
             "colorbar": {
              "outlinewidth": 0,
              "ticks": ""
             }
            },
            "type": "scattermap"
           }
          ],
          "scattermapbox": [
           {
            "marker": {
             "colorbar": {
              "outlinewidth": 0,
              "ticks": ""
             }
            },
            "type": "scattermapbox"
           }
          ],
          "scatterpolar": [
           {
            "marker": {
             "colorbar": {
              "outlinewidth": 0,
              "ticks": ""
             }
            },
            "type": "scatterpolar"
           }
          ],
          "scatterpolargl": [
           {
            "marker": {
             "colorbar": {
              "outlinewidth": 0,
              "ticks": ""
             }
            },
            "type": "scatterpolargl"
           }
          ],
          "scatterternary": [
           {
            "marker": {
             "colorbar": {
              "outlinewidth": 0,
              "ticks": ""
             }
            },
            "type": "scatterternary"
           }
          ],
          "surface": [
           {
            "colorbar": {
             "outlinewidth": 0,
             "ticks": ""
            },
            "colorscale": [
             [
              0,
              "#0d0887"
             ],
             [
              0.1111111111111111,
              "#46039f"
             ],
             [
              0.2222222222222222,
              "#7201a8"
             ],
             [
              0.3333333333333333,
              "#9c179e"
             ],
             [
              0.4444444444444444,
              "#bd3786"
             ],
             [
              0.5555555555555556,
              "#d8576b"
             ],
             [
              0.6666666666666666,
              "#ed7953"
             ],
             [
              0.7777777777777778,
              "#fb9f3a"
             ],
             [
              0.8888888888888888,
              "#fdca26"
             ],
             [
              1,
              "#f0f921"
             ]
            ],
            "type": "surface"
           }
          ],
          "table": [
           {
            "cells": {
             "fill": {
              "color": "#EBF0F8"
             },
             "line": {
              "color": "white"
             }
            },
            "header": {
             "fill": {
              "color": "#C8D4E3"
             },
             "line": {
              "color": "white"
             }
            },
            "type": "table"
           }
          ]
         },
         "layout": {
          "annotationdefaults": {
           "arrowcolor": "#2a3f5f",
           "arrowhead": 0,
           "arrowwidth": 1
          },
          "autotypenumbers": "strict",
          "coloraxis": {
           "colorbar": {
            "outlinewidth": 0,
            "ticks": ""
           }
          },
          "colorscale": {
           "diverging": [
            [
             0,
             "#8e0152"
            ],
            [
             0.1,
             "#c51b7d"
            ],
            [
             0.2,
             "#de77ae"
            ],
            [
             0.3,
             "#f1b6da"
            ],
            [
             0.4,
             "#fde0ef"
            ],
            [
             0.5,
             "#f7f7f7"
            ],
            [
             0.6,
             "#e6f5d0"
            ],
            [
             0.7,
             "#b8e186"
            ],
            [
             0.8,
             "#7fbc41"
            ],
            [
             0.9,
             "#4d9221"
            ],
            [
             1,
             "#276419"
            ]
           ],
           "sequential": [
            [
             0,
             "#0d0887"
            ],
            [
             0.1111111111111111,
             "#46039f"
            ],
            [
             0.2222222222222222,
             "#7201a8"
            ],
            [
             0.3333333333333333,
             "#9c179e"
            ],
            [
             0.4444444444444444,
             "#bd3786"
            ],
            [
             0.5555555555555556,
             "#d8576b"
            ],
            [
             0.6666666666666666,
             "#ed7953"
            ],
            [
             0.7777777777777778,
             "#fb9f3a"
            ],
            [
             0.8888888888888888,
             "#fdca26"
            ],
            [
             1,
             "#f0f921"
            ]
           ],
           "sequentialminus": [
            [
             0,
             "#0d0887"
            ],
            [
             0.1111111111111111,
             "#46039f"
            ],
            [
             0.2222222222222222,
             "#7201a8"
            ],
            [
             0.3333333333333333,
             "#9c179e"
            ],
            [
             0.4444444444444444,
             "#bd3786"
            ],
            [
             0.5555555555555556,
             "#d8576b"
            ],
            [
             0.6666666666666666,
             "#ed7953"
            ],
            [
             0.7777777777777778,
             "#fb9f3a"
            ],
            [
             0.8888888888888888,
             "#fdca26"
            ],
            [
             1,
             "#f0f921"
            ]
           ]
          },
          "colorway": [
           "#636efa",
           "#EF553B",
           "#00cc96",
           "#ab63fa",
           "#FFA15A",
           "#19d3f3",
           "#FF6692",
           "#B6E880",
           "#FF97FF",
           "#FECB52"
          ],
          "font": {
           "color": "#2a3f5f"
          },
          "geo": {
           "bgcolor": "white",
           "lakecolor": "white",
           "landcolor": "#E5ECF6",
           "showlakes": true,
           "showland": true,
           "subunitcolor": "white"
          },
          "hoverlabel": {
           "align": "left"
          },
          "hovermode": "closest",
          "mapbox": {
           "style": "light"
          },
          "paper_bgcolor": "white",
          "plot_bgcolor": "#E5ECF6",
          "polar": {
           "angularaxis": {
            "gridcolor": "white",
            "linecolor": "white",
            "ticks": ""
           },
           "bgcolor": "#E5ECF6",
           "radialaxis": {
            "gridcolor": "white",
            "linecolor": "white",
            "ticks": ""
           }
          },
          "scene": {
           "xaxis": {
            "backgroundcolor": "#E5ECF6",
            "gridcolor": "white",
            "gridwidth": 2,
            "linecolor": "white",
            "showbackground": true,
            "ticks": "",
            "zerolinecolor": "white"
           },
           "yaxis": {
            "backgroundcolor": "#E5ECF6",
            "gridcolor": "white",
            "gridwidth": 2,
            "linecolor": "white",
            "showbackground": true,
            "ticks": "",
            "zerolinecolor": "white"
           },
           "zaxis": {
            "backgroundcolor": "#E5ECF6",
            "gridcolor": "white",
            "gridwidth": 2,
            "linecolor": "white",
            "showbackground": true,
            "ticks": "",
            "zerolinecolor": "white"
           }
          },
          "shapedefaults": {
           "line": {
            "color": "#2a3f5f"
           }
          },
          "ternary": {
           "aaxis": {
            "gridcolor": "white",
            "linecolor": "white",
            "ticks": ""
           },
           "baxis": {
            "gridcolor": "white",
            "linecolor": "white",
            "ticks": ""
           },
           "bgcolor": "#E5ECF6",
           "caxis": {
            "gridcolor": "white",
            "linecolor": "white",
            "ticks": ""
           }
          },
          "title": {
           "x": 0.05
          },
          "xaxis": {
           "automargin": true,
           "gridcolor": "white",
           "linecolor": "white",
           "ticks": "",
           "title": {
            "standoff": 15
           },
           "zerolinecolor": "white",
           "zerolinewidth": 2
          },
          "yaxis": {
           "automargin": true,
           "gridcolor": "white",
           "linecolor": "white",
           "ticks": "",
           "title": {
            "standoff": 15
           },
           "zerolinecolor": "white",
           "zerolinewidth": 2
          }
         }
        },
        "xaxis": {
         "anchor": "y",
         "domain": [
          0,
          1
         ],
         "title": {
          "text": "total_bill"
         }
        },
        "yaxis": {
         "anchor": "x",
         "domain": [
          0,
          1
         ],
         "title": {
          "text": "tip"
         }
        }
       }
      }
     },
     "metadata": {},
     "output_type": "display_data"
    }
   ],
   "source": [
    "import plotly.express as px\n",
    "\n",
    "df = px.data.tips()\n",
    "fig = px.scatter(df, x=\"total_bill\", y=\"tip\", trendline=\"ols\")\n",
    "fig.show()"
   ]
  },
  {
   "cell_type": "markdown",
   "id": "b5ec14a0",
   "metadata": {},
   "source": []
  }
 ],
 "metadata": {
  "kernelspec": {
   "display_name": ".venv",
   "language": "python",
   "name": "python3"
  },
  "language_info": {
   "codemirror_mode": {
    "name": "ipython",
    "version": 3
   },
   "file_extension": ".py",
   "mimetype": "text/x-python",
   "name": "python",
   "nbconvert_exporter": "python",
   "pygments_lexer": "ipython3",
   "version": "3.9.6"
  }
 },
 "nbformat": 4,
 "nbformat_minor": 5
}
